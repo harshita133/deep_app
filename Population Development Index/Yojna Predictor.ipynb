{
 "cells": [
  {
   "cell_type": "code",
   "execution_count": 1,
   "metadata": {},
   "outputs": [],
   "source": [
    "import numpy as np\n",
    "import pandas as pd"
   ]
  },
  {
   "cell_type": "code",
   "execution_count": 22,
   "metadata": {},
   "outputs": [],
   "source": [
    "cluster_assets = {\n",
    "    \"Hospitals\" : 0,\n",
    "    \"Education Body\" : 1,\n",
    "    \"Power Supply\" : 1,\n",
    "    \"Water Supply\" : 1,\n",
    "    \"Transport\" : 0,\n",
    "    \"Filling Stations\" : 1,\n",
    "    \"Nature\" : 0,\n",
    "    \"Public Service Offices\" : 1,\n",
    "    \"Police Station\" : 0,              \n",
    "    \"Ration Shops\" : 10,\n",
    "    \"Post Ofice\" : 1\n",
    "}"
   ]
  },
  {
   "cell_type": "code",
   "execution_count": 23,
   "metadata": {
    "scrolled": true
   },
   "outputs": [
    {
     "data": {
      "text/plain": [
       "NoneType"
      ]
     },
     "execution_count": 23,
     "metadata": {},
     "output_type": "execute_result"
    }
   ],
   "source": [
    "type(cluster_assets.get(\"Medical Body\"))"
   ]
  },
  {
   "cell_type": "code",
   "execution_count": 24,
   "metadata": {},
   "outputs": [],
   "source": [
    "med_yoj = np.array([\"Jan Aushadhi\",\"Central Government Health Scheme\",\"Integrated Rural Development Program\",\"Pradhan Mantri Bhartiya Jan Aushadhi Kendra(PMBJK)\"])\n",
    "\n",
    "edu_yoj = np.array([\"Shiksha Sahayog Yojana\",\"Sarva Shiksha Abhiyan\",\"Saakshar Bharat\",\"Kanya Saaksharta Protsahan Yojna\",\"Kasturba Gandhi Balika Vidhyalaya Yojna\"])\n",
    "\n",
    "water_yoj = np.array([\"Soil and Water Conservation under Hill Area Development Programme-Aug 25, 2011\"])\n",
    "\n",
    "env_yoj = np.array([\"Tamil Nadu Biodiversity Conservation and Greening Project (TBGP)\",\"National Afforestation Programme\",\"Green India mission\",\"Intensification of Forest Management Scheme\"])\n",
    "\n",
    "trans_yoj = np.array([\"Green Urban Transport Scheme(GUTS) - PM Jan Dhan Yojana\"])"
   ]
  },
  {
   "cell_type": "code",
   "execution_count": 41,
   "metadata": {},
   "outputs": [],
   "source": [
    "def yojna_predictor(cluster_assets):\n",
    "\n",
    "    shortage = np.array([])\n",
    "    yojnas = np.array([])\n",
    "    \n",
    "    if(cluster_assets.get(\"Hospitals\")<1):\n",
    "    \n",
    "        shortage = np.append(shortage,\"Hospitals\")\n",
    "        yojnas = np.concatenate((yojnas,med_yoj),axis=1)\n",
    "    \n",
    "    if(cluster_assets.get(\"Education Body\")<1):\n",
    "        \n",
    "        shortage = np.append(shortage,\"Education Body\")\n",
    "        yojnas = np.concatenate((yojnas,edu_yoj),axis=1)\n",
    "\n",
    "    if(cluster_assets.get(\"Power Supply\")<1):\n",
    "        \n",
    "        shortage = np.append(shortage,\"Power Supply\")\n",
    "#         yojnas = np.append(yojnas,[{power_yoj}])\n",
    "\n",
    "    if(cluster_assets.get(\"Water Supply\")<1):\n",
    "        \n",
    "        shortage = np.append(shortage,\"Water Supply\")\n",
    "        yojnas = np.concatenate((yojnas,water_yoj),axis=1)\n",
    "        \n",
    "    if(cluster_assets.get(\"Transport\")<1):\n",
    "        \n",
    "        shortage = np.append(shortage,\"Transport\")\n",
    "        yojnas = np.append((yojnas,trans_yoj),axis=1)\n",
    "        \n",
    "    if(cluster_assets.get(\"Filling Stations\")<1):\n",
    "        \n",
    "        shortage = np.append(shortage,\"Filing Stations\")\n",
    "#         yojnas = np.append(yojnas,yojnas,[{}])\n",
    "    \n",
    "    if(cluster_assets.get(\"Nature\")<1):\n",
    "        \n",
    "        shortage = np.append(shortage,\"Nature\")\n",
    "        yojnas = np.concatenate((yojnas,env_yoj),axis=1)\n",
    "    \n",
    "    if(cluster_assets.get(\"Public Service Offices\")<1):\n",
    "        \n",
    "        shortage = np.append(shortage,\"Publice Service Offices\")\n",
    "#         yojnas = np.append(yojnas,[{}])\n",
    "    \n",
    "    if(cluster_assets.get(\"Police Station\")<1):\n",
    "        \n",
    "        shortage = np.append(shortage,\"Police Station\")\n",
    "#         yojnas = np.append(yojnas,[{}])\n",
    "    \n",
    "    if(cluster_assets.get(\"Ration Shops\")<9):\n",
    "        \n",
    "        shortage = np.append(shortage,\"Ration Shops\")\n",
    "#         yojnas = np.append(yojnas,[{}])\n",
    "    \n",
    "    return [shortage,yojnas]"
   ]
  },
  {
   "cell_type": "code",
   "execution_count": null,
   "metadata": {},
   "outputs": [],
   "source": []
  },
  {
   "cell_type": "code",
   "execution_count": 42,
   "metadata": {},
   "outputs": [
    {
     "ename": "AxisError",
     "evalue": "axis 1 is out of bounds for array of dimension 1",
     "output_type": "error",
     "traceback": [
      "\u001b[1;31m---------------------------------------------------------------------------\u001b[0m",
      "\u001b[1;31mAxisError\u001b[0m                                 Traceback (most recent call last)",
      "\u001b[1;32m<ipython-input-42-6bec987d68f7>\u001b[0m in \u001b[0;36m<module>\u001b[1;34m()\u001b[0m\n\u001b[1;32m----> 1\u001b[1;33m \u001b[0mrep_data\u001b[0m \u001b[1;33m=\u001b[0m \u001b[0myojna_predictor\u001b[0m\u001b[1;33m(\u001b[0m\u001b[0mcluster_assets\u001b[0m\u001b[1;33m)\u001b[0m\u001b[1;33m\u001b[0m\u001b[0m\n\u001b[0m",
      "\u001b[1;32m<ipython-input-41-9d3d48acd154>\u001b[0m in \u001b[0;36myojna_predictor\u001b[1;34m(cluster_assets)\u001b[0m\n\u001b[0;32m      7\u001b[0m \u001b[1;33m\u001b[0m\u001b[0m\n\u001b[0;32m      8\u001b[0m         \u001b[0mshortage\u001b[0m \u001b[1;33m=\u001b[0m \u001b[0mnp\u001b[0m\u001b[1;33m.\u001b[0m\u001b[0mappend\u001b[0m\u001b[1;33m(\u001b[0m\u001b[0mshortage\u001b[0m\u001b[1;33m,\u001b[0m\u001b[1;34m\"Hospitals\"\u001b[0m\u001b[1;33m)\u001b[0m\u001b[1;33m\u001b[0m\u001b[0m\n\u001b[1;32m----> 9\u001b[1;33m         \u001b[0myojnas\u001b[0m \u001b[1;33m=\u001b[0m \u001b[0mnp\u001b[0m\u001b[1;33m.\u001b[0m\u001b[0mconcatenate\u001b[0m\u001b[1;33m(\u001b[0m\u001b[1;33m(\u001b[0m\u001b[0myojnas\u001b[0m\u001b[1;33m,\u001b[0m\u001b[0mmed_yoj\u001b[0m\u001b[1;33m)\u001b[0m\u001b[1;33m,\u001b[0m\u001b[0maxis\u001b[0m\u001b[1;33m=\u001b[0m\u001b[1;36m1\u001b[0m\u001b[1;33m)\u001b[0m\u001b[1;33m\u001b[0m\u001b[0m\n\u001b[0m\u001b[0;32m     10\u001b[0m \u001b[1;33m\u001b[0m\u001b[0m\n\u001b[0;32m     11\u001b[0m     \u001b[1;32mif\u001b[0m\u001b[1;33m(\u001b[0m\u001b[0mcluster_assets\u001b[0m\u001b[1;33m.\u001b[0m\u001b[0mget\u001b[0m\u001b[1;33m(\u001b[0m\u001b[1;34m\"Education Body\"\u001b[0m\u001b[1;33m)\u001b[0m\u001b[1;33m<\u001b[0m\u001b[1;36m1\u001b[0m\u001b[1;33m)\u001b[0m\u001b[1;33m:\u001b[0m\u001b[1;33m\u001b[0m\u001b[0m\n",
      "\u001b[1;31mAxisError\u001b[0m: axis 1 is out of bounds for array of dimension 1"
     ]
    }
   ],
   "source": [
    "rep_data = yojna_predictor(cluster_assets)"
   ]
  },
  {
   "cell_type": "code",
   "execution_count": 36,
   "metadata": {},
   "outputs": [
    {
     "data": {
      "text/plain": [
       "[array(['Hospitals', 'Transport', 'Nature', 'Police Station'], dtype='<U32'),\n",
       " array(['Jan Aushadhi', 'Central Government Health Scheme',\n",
       "        'Integrated Rural Development Program',\n",
       "        'Pradhan Mantri Bhartiya Jan Aushadhi Kendra(PMBJK)',\n",
       "        'Green Urban Transport Scheme(GUTS) - PM Jan Dhan Yojana',\n",
       "        'Tamil Nadu Biodiversity Conservation and Greening Project (TBGP)',\n",
       "        'National Afforestation Programme', 'Green India mission',\n",
       "        'Intensification of Forest Management Scheme'], dtype='<U64')]"
      ]
     },
     "execution_count": 36,
     "metadata": {},
     "output_type": "execute_result"
    }
   ],
   "source": [
    "rep_data"
   ]
  },
  {
   "cell_type": "code",
   "execution_count": null,
   "metadata": {},
   "outputs": [],
   "source": []
  }
 ],
 "metadata": {
  "kernelspec": {
   "display_name": "Python 3",
   "language": "python",
   "name": "python3"
  }
 },
 "nbformat": 4,
 "nbformat_minor": 2
}
